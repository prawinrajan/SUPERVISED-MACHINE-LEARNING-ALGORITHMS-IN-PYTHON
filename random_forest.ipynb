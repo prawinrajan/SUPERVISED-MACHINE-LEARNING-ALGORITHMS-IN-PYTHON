{
 "cells": [
  {
   "cell_type": "code",
   "execution_count": 1,
   "metadata": {},
   "outputs": [
    {
     "name": "stdout",
     "output_type": "stream",
     "text": [
      "2019-06-28 01:29:30.780619\n"
     ]
    }
   ],
   "source": [
    "import datetime\n",
    "print(datetime.datetime.now())\n",
    "import pandas as pd\n",
    "import numpy as np\n",
    "from matplotlib import pyplot as plt\n",
    "%matplotlib inline"
   ]
  },
  {
   "cell_type": "code",
   "execution_count": 2,
   "metadata": {},
   "outputs": [],
   "source": [
    "df = pd.read_csv(\"/home/prawin/final_heart.csv\")"
   ]
  },
  {
   "cell_type": "code",
   "execution_count": 3,
   "metadata": {},
   "outputs": [],
   "source": [
    "inputs = df.drop('num',axis='columns')"
   ]
  },
  {
   "cell_type": "code",
   "execution_count": 4,
   "metadata": {},
   "outputs": [],
   "source": [
    "target = df['num']"
   ]
  },
  {
   "cell_type": "code",
   "execution_count": 5,
   "metadata": {},
   "outputs": [],
   "source": [
    "from sklearn.preprocessing import LabelEncoder\n",
    "le_age = LabelEncoder()\n",
    "le_sex = LabelEncoder()\n",
    "le_trestbps = LabelEncoder()\n",
    "le_chol = LabelEncoder()\n",
    "le_fbs = LabelEncoder()\n",
    "le_thalach = LabelEncoder()\n",
    "le_exang = LabelEncoder()\n",
    "le_oldpeak = LabelEncoder()\n",
    "le_cp_1 = LabelEncoder()\n",
    "le_cp_2 = LabelEncoder()\n",
    "le_cp_3 = LabelEncoder()\n",
    "le_cp_4 = LabelEncoder()\n",
    "le_thal_3 = LabelEncoder()\n",
    "le_thal_6 = LabelEncoder()\n",
    "le_thal_7 = LabelEncoder()\n",
    "le_slope_1 = LabelEncoder()\n",
    "le_slope_2 = LabelEncoder()\n",
    "le_slope_3 = LabelEncoder()\n",
    "le_ca_0 = LabelEncoder()\n",
    "le_ca_1 = LabelEncoder()\n",
    "le_ca_2 = LabelEncoder()\n",
    "le_ca_3 = LabelEncoder()\n",
    "le_restecg_0 = LabelEncoder()\n",
    "le_restecg_1= LabelEncoder()\n",
    "le_restecg_2= LabelEncoder()\n"
   ]
  },
  {
   "cell_type": "code",
   "execution_count": 6,
   "metadata": {},
   "outputs": [],
   "source": [
    "inputs['age_n'] = le_age.fit_transform(inputs['age'])\n",
    "inputs['sex_n'] = le_sex.fit_transform(inputs['sex'])\n",
    "inputs['trestbps_n'] = le_trestbps.fit_transform(inputs['trestbps'])\n",
    "inputs['chol_n'] = le_chol.fit_transform(inputs['chol'])\n",
    "inputs['fbs_n'] = le_fbs.fit_transform(inputs['fbs'])\n",
    "inputs['thalach_n'] = le_thalach.fit_transform(inputs['thalach'])\n",
    "inputs['exang_n'] = le_exang.fit_transform(inputs['exang'])\n",
    "inputs['oldpeak_n'] = le_oldpeak.fit_transform(inputs['oldpeak'])\n",
    "inputs['cp_1_n'] = le_cp_1.fit_transform(inputs['cp_1'])\n",
    "inputs['cp_2_n'] = le_cp_2.fit_transform(inputs['cp_2'])\n",
    "inputs['cp_3_n'] = le_cp_3.fit_transform(inputs['cp_3'])\n",
    "inputs['cp_4_n'] = le_cp_4.fit_transform(inputs['cp_4'])\n",
    "\n",
    "inputs['thal_3_n'] = le_thal_3.fit_transform(inputs['thal_3'])\n",
    "inputs['thal_6_n'] = le_thal_6.fit_transform(inputs['thal_6'])\n",
    "inputs['thal_7_n'] = le_thal_7.fit_transform(inputs['thal_7'])\n",
    "inputs['slope_1_n'] = le_slope_1.fit_transform(inputs['slope_1'])\n",
    "inputs['slope_2_n'] = le_slope_2.fit_transform(inputs['slope_2'])\n",
    "inputs['slope_3_n'] = le_slope_3.fit_transform(inputs['slope_3'])\n",
    "inputs['ca_0_n'] = le_ca_0.fit_transform(inputs['ca_0'])\n",
    "inputs['ca_1_n'] = le_ca_1.fit_transform(inputs['ca_1'])\n",
    "inputs['ca_2_n'] = le_ca_2.fit_transform(inputs['ca_2'])\n",
    "inputs['ca_3_n'] = le_ca_3.fit_transform(inputs['ca_3'])\n",
    "inputs['restecg_0_n'] = le_restecg_0.fit_transform(inputs['restecg_0'])\n",
    "inputs['restecg_1_n'] = le_restecg_1.fit_transform(inputs['restecg_1'])\n",
    "inputs['restecg_2_n'] = le_restecg_2.fit_transform(inputs['restecg_2'])"
   ]
  },
  {
   "cell_type": "code",
   "execution_count": 7,
   "metadata": {},
   "outputs": [],
   "source": [
    "inputs_n = inputs.drop(['age','sex','trestbps','chol','fbs','thalach','exang','oldpeak','cp_1','cp_2','cp_3','cp_4','thal_3','thal_6','thal_7','slope_1','slope_2','slope_3','ca_0','ca_1','ca_2','ca_3','restecg_0','restecg_1','restecg_2'],axis='columns')"
   ]
  },
  {
   "cell_type": "code",
   "execution_count": 8,
   "metadata": {},
   "outputs": [],
   "source": [
    "X = df.drop('num',axis='columns')\n",
    "y = df.num"
   ]
  },
  {
   "cell_type": "code",
   "execution_count": 9,
   "metadata": {},
   "outputs": [],
   "source": [
    "# Normalize\n",
    "X= (X - np.min(X)) / (np.max(X) - np.min(X)).values"
   ]
  },
  {
   "cell_type": "code",
   "execution_count": 10,
   "metadata": {},
   "outputs": [],
   "source": [
    "from sklearn.model_selection import train_test_split\n",
    "X_train, X_test, y_train, y_test = train_test_split(X,y,test_size=0.2)"
   ]
  },
  {
   "cell_type": "code",
   "execution_count": 11,
   "metadata": {},
   "outputs": [
    {
     "data": {
      "text/plain": [
       "RandomForestClassifier(bootstrap=True, class_weight=None, criterion='gini',\n",
       "            max_depth=None, max_features='auto', max_leaf_nodes=None,\n",
       "            min_impurity_decrease=0.0, min_impurity_split=None,\n",
       "            min_samples_leaf=1, min_samples_split=2,\n",
       "            min_weight_fraction_leaf=0.0, n_estimators=20, n_jobs=None,\n",
       "            oob_score=False, random_state=None, verbose=0,\n",
       "            warm_start=False)"
      ]
     },
     "execution_count": 11,
     "metadata": {},
     "output_type": "execute_result"
    }
   ],
   "source": [
    "from sklearn.ensemble import RandomForestClassifier\n",
    "model = RandomForestClassifier(n_estimators=20)\n",
    "model.fit(X_train, y_train)\n"
   ]
  },
  {
   "cell_type": "code",
   "execution_count": 12,
   "metadata": {},
   "outputs": [
    {
     "name": "stdout",
     "output_type": "stream",
     "text": [
      "2019-06-28 01:29:34.074721\n"
     ]
    }
   ],
   "source": [
    "model.score(X_test, y_test)\n",
    "print(datetime.datetime.now())"
   ]
  },
  {
   "cell_type": "code",
   "execution_count": 13,
   "metadata": {},
   "outputs": [],
   "source": [
    "y_predicted = model.predict(X_test)"
   ]
  },
  {
   "cell_type": "code",
   "execution_count": 14,
   "metadata": {},
   "outputs": [
    {
     "data": {
      "text/plain": [
       "array([[30,  1],\n",
       "       [ 7, 23]])"
      ]
     },
     "execution_count": 14,
     "metadata": {},
     "output_type": "execute_result"
    }
   ],
   "source": [
    "from sklearn.metrics import confusion_matrix\n",
    "cm = confusion_matrix(y_test, y_predicted)\n",
    "cm"
   ]
  },
  {
   "cell_type": "code",
   "execution_count": 15,
   "metadata": {},
   "outputs": [
    {
     "data": {
      "text/plain": [
       "Text(69.0, 0.5, 'Truth')"
      ]
     },
     "execution_count": 15,
     "metadata": {},
     "output_type": "execute_result"
    },
    {
     "data": {
      "image/png": "[encoded data removed]",
      "text/plain": [
       "<Figure size 720x504 with 2 Axes>"
      ]
     },
     "metadata": {
      "needs_background": "light"
     },
     "output_type": "display_data"
    }
   ],
   "source": [
    "%matplotlib inline\n",
    "import matplotlib.pyplot as plt\n",
    "import seaborn as sn\n",
    "plt.figure(figsize=(10,7))\n",
    "sn.heatmap(cm, annot=True)\n",
    "plt.xlabel('Predicted')\n",
    "plt.ylabel('Truth')"
   ]
  },
  {
   "cell_type": "code",
   "execution_count": null,
   "metadata": {},
   "outputs": [],
   "source": []
  }
 ],
 "metadata": {
  "kernelspec": {
   "display_name": "Python 3",
   "language": "python",
   "name": "python3"
  },
  "language_info": {
   "codemirror_mode": {
    "name": "ipython",
    "version": 3
   },
   "file_extension": ".py",
   "mimetype": "text/x-python",
   "name": "python",
   "nbconvert_exporter": "python",
   "pygments_lexer": "ipython3",
   "version": "3.7.3"
  }
 },
 "nbformat": 4,
 "nbformat_minor": 2
}
