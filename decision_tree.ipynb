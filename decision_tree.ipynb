{
 "cells": [
  {
   "cell_type": "code",
   "execution_count": 1,
   "metadata": {},
   "outputs": [
    {
     "name": "stdout",
     "output_type": "stream",
     "text": [
      "2019-08-03 15:46:54.133702\n"
     ]
    }
   ],
   "source": [
    "import datetime\n",
    "print(datetime.datetime.now())\n",
    "import pandas as pd\n",
    "import numpy as np\n",
    "from matplotlib import pyplot as plt\n",
    "%matplotlib inline"
   ]
  },
  {
   "cell_type": "code",
   "execution_count": 2,
   "metadata": {},
   "outputs": [],
   "source": [
    "df = pd.read_csv(\"/home/prawin/final_heart.csv\")"
   ]
  },
  {
   "cell_type": "code",
   "execution_count": 3,
   "metadata": {},
   "outputs": [],
   "source": [
    "inputs = df.drop('num',axis='columns')"
   ]
  },
  {
   "cell_type": "code",
   "execution_count": 4,
   "metadata": {},
   "outputs": [],
   "source": [
    "target = df['num']"
   ]
  },
  {
   "cell_type": "code",
   "execution_count": 5,
   "metadata": {},
   "outputs": [],
   "source": [
    "from sklearn.preprocessing import LabelEncoder\n",
    "le_age = LabelEncoder()\n",
    "le_sex = LabelEncoder()\n",
    "le_trestbps = LabelEncoder()\n",
    "le_chol = LabelEncoder()\n",
    "le_fbs = LabelEncoder()\n",
    "le_thalach = LabelEncoder()\n",
    "le_exang = LabelEncoder()\n",
    "le_oldpeak = LabelEncoder()\n",
    "le_cp_1 = LabelEncoder()\n",
    "le_cp_2 = LabelEncoder()\n",
    "le_cp_3 = LabelEncoder()\n",
    "le_cp_4 = LabelEncoder()\n",
    "le_thal_3 = LabelEncoder()\n",
    "le_thal_6 = LabelEncoder()\n",
    "le_thal_7 = LabelEncoder()\n",
    "le_slope_1 = LabelEncoder()\n",
    "le_slope_2 = LabelEncoder()\n",
    "le_slope_3 = LabelEncoder()\n",
    "le_ca_0 = LabelEncoder()\n",
    "le_ca_1 = LabelEncoder()\n",
    "le_ca_2 = LabelEncoder()\n",
    "le_ca_3 = LabelEncoder()\n",
    "le_restecg_0 = LabelEncoder()\n",
    "le_restecg_1= LabelEncoder()\n",
    "le_restecg_2= LabelEncoder()\n"
   ]
  },
  {
   "cell_type": "code",
   "execution_count": 6,
   "metadata": {},
   "outputs": [],
   "source": [
    "inputs['age_n'] = le_age.fit_transform(inputs['age'])\n",
    "inputs['sex_n'] = le_sex.fit_transform(inputs['sex'])\n",
    "inputs['trestbps_n'] = le_trestbps.fit_transform(inputs['trestbps'])\n",
    "inputs['chol_n'] = le_chol.fit_transform(inputs['chol'])\n",
    "inputs['fbs_n'] = le_fbs.fit_transform(inputs['fbs'])\n",
    "inputs['thalach_n'] = le_thalach.fit_transform(inputs['thalach'])\n",
    "inputs['exang_n'] = le_exang.fit_transform(inputs['exang'])\n",
    "inputs['oldpeak_n'] = le_oldpeak.fit_transform(inputs['oldpeak'])\n",
    "inputs['cp_1_n'] = le_cp_1.fit_transform(inputs['cp_1'])\n",
    "inputs['cp_2_n'] = le_cp_2.fit_transform(inputs['cp_2'])\n",
    "inputs['cp_3_n'] = le_cp_3.fit_transform(inputs['cp_3'])\n",
    "inputs['cp_4_n'] = le_cp_4.fit_transform(inputs['cp_4'])\n",
    "\n",
    "inputs['thal_3_n'] = le_thal_3.fit_transform(inputs['thal_3'])\n",
    "inputs['thal_6_n'] = le_thal_6.fit_transform(inputs['thal_6'])\n",
    "inputs['thal_7_n'] = le_thal_7.fit_transform(inputs['thal_7'])\n",
    "inputs['slope_1_n'] = le_slope_1.fit_transform(inputs['slope_1'])\n",
    "inputs['slope_2_n'] = le_slope_2.fit_transform(inputs['slope_2'])\n",
    "inputs['slope_3_n'] = le_slope_3.fit_transform(inputs['slope_3'])\n",
    "inputs['ca_0_n'] = le_ca_0.fit_transform(inputs['ca_0'])\n",
    "inputs['ca_1_n'] = le_ca_1.fit_transform(inputs['ca_1'])\n",
    "inputs['ca_2_n'] = le_ca_2.fit_transform(inputs['ca_2'])\n",
    "inputs['ca_3_n'] = le_ca_3.fit_transform(inputs['ca_3'])\n",
    "inputs['restecg_0_n'] = le_restecg_0.fit_transform(inputs['restecg_0'])\n",
    "inputs['restecg_1_n'] = le_restecg_1.fit_transform(inputs['restecg_1'])\n",
    "inputs['restecg_2_n'] = le_restecg_2.fit_transform(inputs['restecg_2'])"
   ]
  },
  {
   "cell_type": "code",
   "execution_count": 7,
   "metadata": {},
   "outputs": [],
   "source": [
    "inputs_n = inputs.drop(['age','sex','trestbps','chol','fbs','thalach','exang','oldpeak','cp_1','cp_2','cp_3','cp_4','thal_3','thal_6','thal_7','slope_1','slope_2','slope_3','ca_0','ca_1','ca_2','ca_3','restecg_0','restecg_1','restecg_2'],axis='columns')"
   ]
  },
  {
   "cell_type": "code",
   "execution_count": 8,
   "metadata": {},
   "outputs": [],
   "source": [
    "from sklearn import tree\n",
    "model = tree.DecisionTreeClassifier()"
   ]
  },
  {
   "cell_type": "code",
   "execution_count": 9,
   "metadata": {},
   "outputs": [
    {
     "data": {
      "text/plain": [
       "DecisionTreeClassifier(class_weight=None, criterion='gini', max_depth=None,\n",
       "            max_features=None, max_leaf_nodes=None,\n",
       "            min_impurity_decrease=0.0, min_impurity_split=None,\n",
       "            min_samples_leaf=1, min_samples_split=2,\n",
       "            min_weight_fraction_leaf=0.0, presort=False, random_state=None,\n",
       "            splitter='best')"
      ]
     },
     "execution_count": 9,
     "metadata": {},
     "output_type": "execute_result"
    }
   ],
   "source": [
    "model.fit(inputs_n,target)"
   ]
  },
  {
   "cell_type": "code",
   "execution_count": 10,
   "metadata": {},
   "outputs": [
    {
     "data": {
      "text/plain": [
       "0.9966996699669967"
      ]
     },
     "execution_count": 10,
     "metadata": {},
     "output_type": "execute_result"
    }
   ],
   "source": [
    "model.score(inputs_n,target)"
   ]
  },
  {
   "cell_type": "code",
   "execution_count": 11,
   "metadata": {},
   "outputs": [],
   "source": [
    "prediction = model.predict(inputs_n)"
   ]
  },
  {
   "cell_type": "code",
   "execution_count": 12,
   "metadata": {},
   "outputs": [],
   "source": [
    "from sklearn.metrics import precision_score, \\\n",
    "    recall_score, confusion_matrix, classification_report, \\\n",
    "    accuracy_score, f1_score\n"
   ]
  },
  {
   "cell_type": "code",
   "execution_count": null,
   "metadata": {},
   "outputs": [],
   "source": [
    "accuracy_score(y_test, prediction)"
   ]
  }
 ],
 "metadata": {
  "kernelspec": {
   "display_name": "Python 3",
   "language": "python",
   "name": "python3"
  },
  "language_info": {
   "codemirror_mode": {
    "name": "ipython",
    "version": 3
   },
   "file_extension": ".py",
   "mimetype": "text/x-python",
   "name": "python",
   "nbconvert_exporter": "python",
   "pygments_lexer": "ipython3",
   "version": "3.7.3"
  }
 },
 "nbformat": 4,
 "nbformat_minor": 2
}
